{
 "cells": [
  {
   "cell_type": "code",
   "execution_count": 26,
   "metadata": {},
   "outputs": [
    {
     "name": "stdout",
     "output_type": "stream",
     "text": [
      "506\n",
      "515\n"
     ]
    }
   ],
   "source": [
    "def HammingBound(d,n,q):\n",
    "    t = (d-1) // 2\n",
    "    k = 1\n",
    "    s = sum([(q-1)^i*binomial(n,i) for i in range(0,t+1)])\n",
    "    while(s<q^(n-k)):\n",
    "        k = k+1\n",
    "        s = sum([(q-1)^i*binomial(n,i) for i in range(0,t+1)])\n",
    "    return (k-1)\n",
    "    \n",
    "\n",
    "def SingletonBound(d,n,q):   \n",
    "    return n-d+1\n",
    "\n",
    "def GVBound(d,n,q):\n",
    "    k = 1\n",
    "    s = sum([(q-1)^i*binomial(n,i) for i in range(0,d)])\n",
    "    while(s<q^(n-k)):\n",
    "        k = k+1\n",
    "        s = sum([(q-1)^i*binomial(n,i) for i in range(0,d)])\n",
    "    return k\n",
    "\n",
    "def GVBound_linear_codes(d,n,q):\n",
    "    k = 1\n",
    "    s = sum([(q-1)^i*binomial(n-1,i) for i in range(0,d-1)])\n",
    "    while(s<q^(n-k)):\n",
    "        k = k+1\n",
    "        s = sum([(q-1)^i*binomial(n-1,i) for i in range(0,d-1)])\n",
    "    return (k-1)\n",
    "\n",
    "GVBound_linear_codes(23,640,2)\n",
    "\n",
    "print(GVBound(23,640,2))\n",
    "print(HammingBound(41,640,2))\n",
    "\n",
    "# n = 200\n",
    "# q = 19\n",
    "\n",
    "# u = [(d/n, HammingBound(d,n,q)/n) for d in range(1, n+1)]\n",
    "# v = [(d/n, SingletonBound(d,n,q)/n) for d in range(1, n+1)]\n",
    "# w = [(d/n, GVBound(d,n,q)/n) for d in range(1, n+1)]\n",
    "\n",
    "# P1 = points(u, rgbcolor=(0.1,0.6, 0.1), pointsize=5)\n",
    "# P2 = points(v, rgbcolor=(0,0,0), pointsize=5)\n",
    "# P3 = points(w, rgbcolor=(0.1,0.1, 0.6), pointsize=5)\n",
    "\n",
    "# show(P1+P2+P3)\n"
   ]
  },
  {
   "cell_type": "code",
   "execution_count": null,
   "metadata": {},
   "outputs": [],
   "source": [
    "list(range(0,5))"
   ]
  },
  {
   "cell_type": "code",
   "execution_count": 30,
   "metadata": {},
   "outputs": [
    {
     "data": {
      "text/plain": [
       "3/2"
      ]
     },
     "execution_count": 30,
     "metadata": {},
     "output_type": "execute_result"
    }
   ],
   "source": [
    "3/2"
   ]
  },
  {
   "cell_type": "code",
   "execution_count": null,
   "metadata": {},
   "outputs": [],
   "source": []
  }
 ],
 "metadata": {
  "kernelspec": {
   "display_name": "SageMath 9.1",
   "language": "sage",
   "name": "sagemath"
  },
  "language_info": {
   "codemirror_mode": {
    "name": "ipython",
    "version": 3
   },
   "file_extension": ".py",
   "mimetype": "text/x-python",
   "name": "python",
   "nbconvert_exporter": "python",
   "pygments_lexer": "ipython3",
   "version": "3.7.3"
  }
 },
 "nbformat": 4,
 "nbformat_minor": 2
}
