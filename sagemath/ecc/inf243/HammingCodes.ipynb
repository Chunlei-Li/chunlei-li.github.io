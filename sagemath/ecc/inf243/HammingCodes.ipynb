{
 "cells": [
  {
   "cell_type": "code",
   "execution_count": 12,
   "metadata": {},
   "outputs": [],
   "source": [
    "G = Matrix(GF(2), 4, 7, [1,0,0,0,1,1,0, 0,1,0,0,1,0,1, 0,0,1,0,0,1,1, 0,0,0,1,1,1,1])\n",
    "C = codes.LinearCode(G)"
   ]
  },
  {
   "cell_type": "code",
   "execution_count": 10,
   "metadata": {},
   "outputs": [
    {
     "data": {
      "text/plain": [
       "[1 0 0 0 1 1 0]\n",
       "[0 1 0 0 1 0 1]\n",
       "[0 0 1 0 0 1 1]\n",
       "[0 0 0 1 1 1 1]"
      ]
     },
     "execution_count": 10,
     "metadata": {},
     "output_type": "execute_result"
    }
   ],
   "source": [
    "C.generator_matrix()"
   ]
  },
  {
   "cell_type": "code",
   "execution_count": 13,
   "metadata": {},
   "outputs": [
    {
     "data": {
      "text/plain": [
       "[(0, 0, 0, 0, 0, 0, 0),\n",
       " (1, 0, 0, 0, 1, 1, 0),\n",
       " (0, 1, 0, 0, 1, 0, 1),\n",
       " (1, 1, 0, 0, 0, 1, 1),\n",
       " (0, 0, 1, 0, 0, 1, 1),\n",
       " (1, 0, 1, 0, 1, 0, 1),\n",
       " (0, 1, 1, 0, 1, 1, 0),\n",
       " (1, 1, 1, 0, 0, 0, 0),\n",
       " (0, 0, 0, 1, 1, 1, 1),\n",
       " (1, 0, 0, 1, 0, 0, 1),\n",
       " (0, 1, 0, 1, 0, 1, 0),\n",
       " (1, 1, 0, 1, 1, 0, 0),\n",
       " (0, 0, 1, 1, 1, 0, 0),\n",
       " (1, 0, 1, 1, 0, 1, 0),\n",
       " (0, 1, 1, 1, 0, 0, 1),\n",
       " (1, 1, 1, 1, 1, 1, 1)]"
      ]
     },
     "execution_count": 13,
     "metadata": {},
     "output_type": "execute_result"
    }
   ],
   "source": [
    "C.list()"
   ]
  },
  {
   "cell_type": "code",
   "execution_count": null,
   "metadata": {},
   "outputs": [],
   "source": []
  }
 ],
 "metadata": {
  "kernelspec": {
   "display_name": "SageMath 9.1",
   "language": "sage",
   "name": "sagemath"
  },
  "language_info": {
   "codemirror_mode": {
    "name": "ipython",
    "version": 3
   },
   "file_extension": ".py",
   "mimetype": "text/x-python",
   "name": "python",
   "nbconvert_exporter": "python",
   "pygments_lexer": "ipython3",
   "version": "3.7.3"
  }
 },
 "nbformat": 4,
 "nbformat_minor": 2
}
