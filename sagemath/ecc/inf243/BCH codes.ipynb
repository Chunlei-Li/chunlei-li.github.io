{
 "cells": [
  {
   "cell_type": "code",
   "execution_count": 12,
   "metadata": {},
   "outputs": [
    {
     "name": "stdout",
     "output_type": "stream",
     "text": [
      "1   x^4 + x + 1\n",
      "3   x^4 + x^3 + x^2 + x + 1\n",
      "5   x^2 + x + 1\n",
      "7   x^4 + x^3 + 1\n",
      "x^9 + x^6 + x^5 + x^4 + x + 1\n",
      "6\n"
     ]
    },
    {
     "data": {
      "text/plain": [
       "[1 0 0 1 1 1 1 0 0 0 0 0 0 0 0]\n",
       "[0 1 0 0 1 1 1 1 0 0 0 0 0 0 0]\n",
       "[0 0 1 0 0 1 1 1 1 0 0 0 0 0 0]\n",
       "[0 0 0 1 0 0 1 1 1 1 0 0 0 0 0]\n",
       "[0 0 0 0 1 0 0 1 1 1 1 0 0 0 0]\n",
       "[0 0 0 0 0 1 0 0 1 1 1 1 0 0 0]\n",
       "[0 0 0 0 0 0 1 0 0 1 1 1 1 0 0]\n",
       "[0 0 0 0 0 0 0 1 0 0 1 1 1 1 0]\n",
       "[0 0 0 0 0 0 0 0 1 0 0 1 1 1 1]"
      ]
     },
     "execution_count": 12,
     "metadata": {},
     "output_type": "execute_result"
    }
   ],
   "source": [
    "p = 2; m = 4; \n",
    "R.<x> = PolynomialRing(GF(p));\n",
    "q = p^m;\n",
    "Fm.<a> = GF(q, modulus=x^4+x+1);\n",
    "\n",
    "a.minimal_polynomial()\n",
    "for i in [1, 3, 5, 7]:\n",
    "    b = a^i; \n",
    "    print(i, \" \", b.minimal_polynomial())\n",
    "\n",
    "g = (x+1)*(a).minimal_polynomial()*(a^3).minimal_polynomial()\n",
    "print(g)\n",
    "\n",
    "C = codes.CyclicCode(g, q-1)\n",
    "print(C.dimension())\n",
    "C.parity_check_matrix()"
   ]
  },
  {
   "cell_type": "code",
   "execution_count": 4,
   "metadata": {},
   "outputs": [
    {
     "data": {
      "text/plain": [
       "x^4 + x + 1"
      ]
     },
     "execution_count": 4,
     "metadata": {},
     "output_type": "execute_result"
    }
   ],
   "source": [
    "(a^8).minimal_polynomial()"
   ]
  },
  {
   "cell_type": "code",
   "execution_count": 5,
   "metadata": {},
   "outputs": [],
   "source": [
    "# (x+y)^2 = x^2 + 2*x*y + y^2 = x^2 + y^2\n",
    "# (x1 + x2 + ... + x^n)^2 =x1^2 + x2^2 + ... + xn^2\n"
   ]
  },
  {
   "cell_type": "code",
   "execution_count": 7,
   "metadata": {},
   "outputs": [
    {
     "data": {
      "text/plain": [
       "x^4 + x^3 + 1"
      ]
     },
     "execution_count": 7,
     "metadata": {},
     "output_type": "execute_result"
    }
   ],
   "source": [
    "b = a^7;\n",
    "\n",
    "C7 = {7, 14, 13, 11}\n",
    "\n",
    "(x-a^7)*(x-a^14)*(x-a^13)*(x-a^11)"
   ]
  },
  {
   "cell_type": "code",
   "execution_count": 8,
   "metadata": {},
   "outputs": [
    {
     "data": {
      "text/plain": [
       "x^4 + x^3 + 1"
      ]
     },
     "execution_count": 8,
     "metadata": {},
     "output_type": "execute_result"
    }
   ],
   "source": [
    "b.minimal_polynomial()"
   ]
  },
  {
   "cell_type": "code",
   "execution_count": 9,
   "metadata": {},
   "outputs": [
    {
     "data": {
      "text/plain": [
       "x^2 + x + 1"
      ]
     },
     "execution_count": 9,
     "metadata": {},
     "output_type": "execute_result"
    }
   ],
   "source": [
    "c = a^5\n",
    "C5 = {5, 10}\n",
    "(x-a^5)*(x-a^10) = x^2 + x + 1"
   ]
  },
  {
   "cell_type": "code",
   "execution_count": 11,
   "metadata": {},
   "outputs": [
    {
     "data": {
      "text/plain": [
       "x^2 + x + 1"
      ]
     },
     "execution_count": 11,
     "metadata": {},
     "output_type": "execute_result"
    }
   ],
   "source": [
    "c.minimal_polynomial()"
   ]
  },
  {
   "cell_type": "code",
   "execution_count": 14,
   "metadata": {},
   "outputs": [
    {
     "data": {
      "text/plain": [
       "x^4 + x^3 + 1"
      ]
     },
     "execution_count": 14,
     "metadata": {},
     "output_type": "execute_result"
    }
   ],
   "source": [
    "(a^7).minimal_polynomial()"
   ]
  },
  {
   "cell_type": "code",
   "execution_count": null,
   "metadata": {},
   "outputs": [],
   "source": [
    "# An example of BCH code\n",
    "\n",
    "R.<x> = PolynomialRing(GF(2))\n",
    "m = 6\n",
    "f = x^6 + x + 1\n",
    "print(f.is_irreducible())\n",
    "Fm.<w> = FiniteField(2^m, f)\n",
    "print(Fm)\n",
    "n = 2^m-1\n",
    "factor(x^n-1)\n",
    "\n",
    "# defining set = {1, 2, 3, 4, 5}\n",
    "m1 = w.minimal_polynomial()     # C1 = {1, 2, 4, 8, 16, 32}\n",
    "m3 = (w^3).minimal_polynomial() # C3 = {3, 6, 12, 24, 48, 33}\n",
    "m5 = (w^5).minimal_polynomial() # C5 = {5, 10, 20, 40, 17, 34}\n",
    "# The complete defining set is {1,2,3,4,5,6, 8,10,12,16,17,20,24,32,33,34,40,48}\n",
    "\n",
    "g = lcm(lcm(m1, m3), m5)        # g has roots w^i with i taken from C1, C3, C5\n",
    "print(g)\n",
    "C = codes.CyclicCode(g,n)       # This BCH code has minimum distance at least 7 \n",
    "print(C)\n",
    "print(C.minimum_distance())     # NB: this step takes time as the code dimension is 45=n-deg(g) \n"
   ]
  },
  {
   "cell_type": "code",
   "execution_count": null,
   "metadata": {},
   "outputs": [],
   "source": []
  },
  {
   "cell_type": "code",
   "execution_count": null,
   "metadata": {},
   "outputs": [],
   "source": []
  },
  {
   "cell_type": "code",
   "execution_count": null,
   "metadata": {},
   "outputs": [],
   "source": []
  }
 ],
 "metadata": {
  "kernelspec": {
   "display_name": "SageMath 9.1",
   "language": "sage",
   "name": "sagemath"
  },
  "language_info": {
   "codemirror_mode": {
    "name": "ipython",
    "version": 3
   },
   "file_extension": ".py",
   "mimetype": "text/x-python",
   "name": "python",
   "nbconvert_exporter": "python",
   "pygments_lexer": "ipython3",
   "version": "3.7.3"
  }
 },
 "nbformat": 4,
 "nbformat_minor": 2
}
