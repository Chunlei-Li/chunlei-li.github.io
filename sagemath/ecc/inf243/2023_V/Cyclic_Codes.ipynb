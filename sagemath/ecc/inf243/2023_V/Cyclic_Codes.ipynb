{
 "cells": [
  {
   "cell_type": "code",
   "execution_count": 40,
   "metadata": {},
   "outputs": [
    {
     "name": "stdout",
     "output_type": "stream",
     "text": [
      "(x + 1) * (x^2 + x + 1) * (x^4 + x + 1) * (x^4 + x^3 + 1) * (x^4 + x^3 + x^2 + x + 1)\n",
      "x^4 + x + 1\n",
      "x^4 + x^3 + x^2 + x + 1\n",
      "x^2 + x + 1\n",
      "x^4 + x^3 + 1\n",
      "x + 1\n"
     ]
    }
   ],
   "source": [
    "q = 2\n",
    "R.<x> = PolynomialRing(GF(q))\n",
    "m = 4\n",
    "F.<w> = GF(2^m)\n",
    "n = 2^m-1\n",
    "\n",
    "print(factor(x^n-1))\n",
    "\n",
    "a = w; b = w^3; c = w^5; d = w^7; e = w^0\n",
    "\n",
    "print(a.minimal_polynomial())\n",
    "print(b.minimal_polynomial())\n",
    "print(c.minimal_polynomial())\n",
    "print(d.minimal_polynomial())\n",
    "print(e.minimal_polynomial())\n",
    "\n",
    "\n",
    "\n"
   ]
  },
  {
   "cell_type": "code",
   "execution_count": 39,
   "metadata": {},
   "outputs": [
    {
     "ename": "ValueError",
     "evalue": "Provided polynomial must divide x^n - 1, where n is the provided length.",
     "output_type": "error",
     "traceback": [
      "\u001b[0;31m---------------------------------------------------------------------------\u001b[0m",
      "\u001b[0;31mValueError\u001b[0m                                Traceback (most recent call last)",
      "\u001b[0;32m<ipython-input-39-cfcb17cb7f0d>\u001b[0m in \u001b[0;36m<module>\u001b[0;34m()\u001b[0m\n\u001b[1;32m      1\u001b[0m \u001b[0mg\u001b[0m \u001b[0;34m=\u001b[0m \u001b[0;34m(\u001b[0m\u001b[0mx\u001b[0m\u001b[0;34m**\u001b[0m\u001b[0mInteger\u001b[0m\u001b[0;34m(\u001b[0m\u001b[0;36m3\u001b[0m\u001b[0;34m)\u001b[0m \u001b[0;34m+\u001b[0m \u001b[0mx\u001b[0m \u001b[0;34m+\u001b[0m \u001b[0mInteger\u001b[0m\u001b[0;34m(\u001b[0m\u001b[0;36m1\u001b[0m\u001b[0;34m)\u001b[0m\u001b[0;34m)\u001b[0m \u001b[0;34m*\u001b[0m \u001b[0;34m(\u001b[0m\u001b[0mx\u001b[0m\u001b[0;34m**\u001b[0m\u001b[0mInteger\u001b[0m\u001b[0;34m(\u001b[0m\u001b[0;36m4\u001b[0m\u001b[0;34m)\u001b[0m \u001b[0;34m+\u001b[0m \u001b[0mx\u001b[0m\u001b[0;34m**\u001b[0m\u001b[0mInteger\u001b[0m\u001b[0;34m(\u001b[0m\u001b[0;36m3\u001b[0m\u001b[0;34m)\u001b[0m \u001b[0;34m+\u001b[0m \u001b[0mInteger\u001b[0m\u001b[0;34m(\u001b[0m\u001b[0;36m1\u001b[0m\u001b[0;34m)\u001b[0m\u001b[0;34m)\u001b[0m\u001b[0;34m\u001b[0m\u001b[0;34m\u001b[0m\u001b[0m\n\u001b[0;32m----> 2\u001b[0;31m \u001b[0mC\u001b[0m \u001b[0;34m=\u001b[0m \u001b[0mcodes\u001b[0m\u001b[0;34m.\u001b[0m\u001b[0mCyclicCode\u001b[0m\u001b[0;34m(\u001b[0m\u001b[0mgenerator_pol\u001b[0m \u001b[0;34m=\u001b[0m \u001b[0mg\u001b[0m\u001b[0;34m,\u001b[0m \u001b[0mlength\u001b[0m \u001b[0;34m=\u001b[0m \u001b[0mn\u001b[0m\u001b[0;34m)\u001b[0m\u001b[0;34m\u001b[0m\u001b[0;34m\u001b[0m\u001b[0m\n\u001b[0m\u001b[1;32m      3\u001b[0m \u001b[0;34m\u001b[0m\u001b[0m\n\u001b[1;32m      4\u001b[0m \u001b[0mprint\u001b[0m\u001b[0;34m(\u001b[0m\u001b[0mC\u001b[0m\u001b[0;34m)\u001b[0m\u001b[0;34m\u001b[0m\u001b[0;34m\u001b[0m\u001b[0m\n\u001b[1;32m      5\u001b[0m \u001b[0;34m\u001b[0m\u001b[0m\n",
      "\u001b[0;32m/Applications/SageMath-9.1.app/Contents/Resources/sage/local/lib/python3.7/site-packages/sage/coding/cyclic_code.py\u001b[0m in \u001b[0;36m__init__\u001b[0;34m(self, generator_pol, length, code, check, D, field, primitive_root)\u001b[0m\n\u001b[1;32m    391\u001b[0m                 \u001b[0mlength\u001b[0m \u001b[0;34m=\u001b[0m \u001b[0mInteger\u001b[0m\u001b[0;34m(\u001b[0m\u001b[0mlength\u001b[0m\u001b[0;34m)\u001b[0m\u001b[0;34m\u001b[0m\u001b[0;34m\u001b[0m\u001b[0m\n\u001b[1;32m    392\u001b[0m             \u001b[0;32mif\u001b[0m \u001b[0;32mnot\u001b[0m \u001b[0mgenerator_pol\u001b[0m\u001b[0;34m.\u001b[0m\u001b[0mdivides\u001b[0m\u001b[0;34m(\u001b[0m\u001b[0mR\u001b[0m\u001b[0;34m.\u001b[0m\u001b[0mgen\u001b[0m\u001b[0;34m(\u001b[0m\u001b[0;34m)\u001b[0m \u001b[0;34m**\u001b[0m \u001b[0mlength\u001b[0m \u001b[0;34m-\u001b[0m \u001b[0;36m1\u001b[0m\u001b[0;34m)\u001b[0m\u001b[0;34m:\u001b[0m\u001b[0;34m\u001b[0m\u001b[0;34m\u001b[0m\u001b[0m\n\u001b[0;32m--> 393\u001b[0;31m                 raise ValueError(\"Provided polynomial must divide x^n - 1, \"\n\u001b[0m\u001b[1;32m    394\u001b[0m                                  \"where n is the provided length.\")\n\u001b[1;32m    395\u001b[0m             \u001b[0mself\u001b[0m\u001b[0;34m.\u001b[0m\u001b[0m_polynomial_ring\u001b[0m \u001b[0;34m=\u001b[0m \u001b[0mR\u001b[0m\u001b[0;34m\u001b[0m\u001b[0;34m\u001b[0m\u001b[0m\n",
      "\u001b[0;31mValueError\u001b[0m: Provided polynomial must divide x^n - 1, where n is the provided length."
     ]
    }
   ],
   "source": [
    "g = (x^3 + x + 1) * (x^4 + x^3 + 1)\n",
    "C = codes.CyclicCode(generator_pol = g, length = n) \n",
    "\n",
    "print(C)\n",
    "\n",
    "# para_C = [C.length(), C.dimension(), C.minimum_distance()];\n",
    "# print(para_C)\n",
    "# print(C.weight_distribution())\n",
    "# print(C.weight_enumerator())\n",
    "# ?codes.CyclicCode()\n",
    "\n",
    "\n",
    "# #Minimal Polynomials\n",
    "\n",
    "# R.<x>  = PolynomialRing(GF(2));\n",
    "# FF.<w> = FiniteField(2^4); FF\n",
    "# for i in range(2^4):\n",
    "#     a = w^i; \n",
    "#     print((x+a^(2^0))*(x+a^(2^1))*(x+a^(2^2))*(x+a^(2^3)), end=\", \")\n",
    "#     print(a.minimal_polynomial())"
   ]
  },
  {
   "cell_type": "code",
   "execution_count": 12,
   "metadata": {},
   "outputs": [],
   "source": [
    "n = 4\n",
    "\n",
    "while (2^n -1) % 23 != 0:\n",
    "    n = n + 1"
   ]
  },
  {
   "cell_type": "code",
   "execution_count": 13,
   "metadata": {},
   "outputs": [
    {
     "data": {
      "text/plain": [
       "11"
      ]
     },
     "execution_count": 13,
     "metadata": {},
     "output_type": "execute_result"
    }
   ],
   "source": [
    "n"
   ]
  },
  {
   "cell_type": "code",
   "execution_count": 26,
   "metadata": {},
   "outputs": [
    {
     "data": {
      "text/plain": [
       "(z + 2) * (z^11 + 2*z^8 + 2*z^6 + z^4 + z^3 + 2*z^2 + 2*z + 2) * (z^11 + z^10 + z^9 + 2*z^8 + 2*z^7 + z^5 + z^3 + 2)"
      ]
     },
     "execution_count": 26,
     "metadata": {},
     "output_type": "execute_result"
    }
   ],
   "source": [
    "R.<z> = PolynomialRing(GF(3))\n",
    "factor(z^23-1)"
   ]
  },
  {
   "cell_type": "code",
   "execution_count": 30,
   "metadata": {},
   "outputs": [
    {
     "data": {
      "text/plain": [
       "x^2 + a^2*x + a^3 + a"
      ]
     },
     "execution_count": 30,
     "metadata": {},
     "output_type": "execute_result"
    }
   ],
   "source": [
    "n = 4; \n",
    "q = 2; \n",
    "F.<a> = GF(q^n);\n",
    "R.<x> = PolynomialRing(GF(q))\n",
    "\n",
    "b = a^3\n",
    "\n",
    "(x-b)*(x-b^2)"
   ]
  },
  {
   "cell_type": "code",
   "execution_count": null,
   "metadata": {},
   "outputs": [],
   "source": []
  }
 ],
 "metadata": {
  "kernelspec": {
   "display_name": "SageMath 9.1",
   "language": "sage",
   "name": "sagemath"
  },
  "language_info": {
   "codemirror_mode": {
    "name": "ipython",
    "version": 3
   },
   "file_extension": ".py",
   "mimetype": "text/x-python",
   "name": "python",
   "nbconvert_exporter": "python",
   "pygments_lexer": "ipython3",
   "version": "3.7.3"
  }
 },
 "nbformat": 4,
 "nbformat_minor": 2
}
