{
 "cells": [
  {
   "cell_type": "code",
   "execution_count": 1,
   "id": "1488174e",
   "metadata": {},
   "outputs": [
    {
     "name": "stdout",
     "output_type": "stream",
     "text": [
      "=============== Code Parameters ================\n",
      " [n,k,d] = [32, 16, 8]\n",
      " [n,k,d] = [32, 16, 8]\n",
      "Generator Matrix\n",
      "[1 1 1 1 1 1 1 1 1 1 1 1 1 1 1 1 1 1 1 1 1 1 1 1 1 1 1 1 1 1 1 1]\n",
      "[0 1 0 1 0 1 0 1 0 1 0 1 0 1 0 1 0 1 0 1 0 1 0 1 0 1 0 1 0 1 0 1]\n",
      "[0 0 1 1 0 0 1 1 0 0 1 1 0 0 1 1 0 0 1 1 0 0 1 1 0 0 1 1 0 0 1 1]\n",
      "[0 0 0 0 1 1 1 1 0 0 0 0 1 1 1 1 0 0 0 0 1 1 1 1 0 0 0 0 1 1 1 1]\n",
      "[0 0 0 0 0 0 0 0 1 1 1 1 1 1 1 1 0 0 0 0 0 0 0 0 1 1 1 1 1 1 1 1]\n",
      "[0 0 0 0 0 0 0 0 0 0 0 0 0 0 0 0 1 1 1 1 1 1 1 1 1 1 1 1 1 1 1 1]\n",
      "[0 0 0 1 0 0 0 1 0 0 0 1 0 0 0 1 0 0 0 1 0 0 0 1 0 0 0 1 0 0 0 1]\n",
      "[0 0 0 0 0 1 0 1 0 0 0 0 0 1 0 1 0 0 0 0 0 1 0 1 0 0 0 0 0 1 0 1]\n",
      "[0 0 0 0 0 0 0 0 0 1 0 1 0 1 0 1 0 0 0 0 0 0 0 0 0 1 0 1 0 1 0 1]\n",
      "[0 0 0 0 0 0 0 0 0 0 0 0 0 0 0 0 0 1 0 1 0 1 0 1 0 1 0 1 0 1 0 1]\n",
      "[0 0 0 0 0 0 1 1 0 0 0 0 0 0 1 1 0 0 0 0 0 0 1 1 0 0 0 0 0 0 1 1]\n",
      "[0 0 0 0 0 0 0 0 0 0 1 1 0 0 1 1 0 0 0 0 0 0 0 0 0 0 1 1 0 0 1 1]\n",
      "[0 0 0 0 0 0 0 0 0 0 0 0 0 0 0 0 0 0 1 1 0 0 1 1 0 0 1 1 0 0 1 1]\n",
      "[0 0 0 0 0 0 0 0 0 0 0 0 1 1 1 1 0 0 0 0 0 0 0 0 0 0 0 0 1 1 1 1]\n",
      "[0 0 0 0 0 0 0 0 0 0 0 0 0 0 0 0 0 0 0 0 1 1 1 1 0 0 0 0 1 1 1 1]\n",
      "[0 0 0 0 0 0 0 0 0 0 0 0 0 0 0 0 0 0 0 0 0 0 0 0 1 1 1 1 1 1 1 1]\n",
      "Available Enoders: \n",
      "['EvaluationPolynomial', 'EvaluationVector', 'Systematic']\n",
      "Available Deoders: \n",
      "['InformationSet', 'NearestNeighbor', 'Syndrome']\n",
      "================= Encoding ====================\n",
      "  msg: (0, 0, 1, 1, 0, 0, 0, 0, 1, 1, 1, 0, 0, 0, 0, 1)\n",
      "cword: (0, 0, 1, 1, 1, 1, 1, 1, 0, 1, 1, 0, 1, 0, 1, 0, 0, 1, 1, 0, 1, 0, 1, 0, 1, 1, 0, 0, 0, 0, 0, 0)\n",
      "=============== Transmission ==================\n",
      "cword:  (0, 0, 1, 1, 1, 1, 1, 1, 0, 1, 1, 0, 1, 0, 1, 0, 0, 1, 1, 0, 1, 0, 1, 0, 1, 1, 0, 0, 0, 0, 0, 0)\n",
      "rword:  (0, 0, 1, 1, 1, 1, 1, 1, 0, 0, 1, 0, 1, 0, 1, 0, 0, 1, 1, 0, 1, 1, 1, 0, 1, 1, 0, 1, 0, 0, 0, 0)\n",
      "errors: (0, 0, 0, 0, 0, 0, 0, 0, 0, 1, 0, 0, 0, 0, 0, 0, 0, 0, 0, 0, 0, 1, 0, 0, 0, 0, 0, 1, 0, 0, 0, 0)\n",
      "================= Decoding ====================\n",
      "gword: (0, 0, 1, 1, 1, 1, 1, 1, 0, 1, 1, 0, 1, 0, 1, 0, 0, 1, 1, 0, 1, 0, 1, 0, 1, 1, 0, 0, 0, 0, 0, 0)\n",
      "cword: (0, 0, 1, 1, 1, 1, 1, 1, 0, 1, 1, 0, 1, 0, 1, 0, 0, 1, 1, 0, 1, 0, 1, 0, 1, 1, 0, 0, 0, 0, 0, 0)\n",
      " Time: 319.6743230819702\n"
     ]
    }
   ],
   "source": [
    "Fq = GF(2)\n",
    "m = 3\n",
    "r = 1\n",
    "\n",
    "C = codes.ReedMullerCode(Fq, r, m)\n",
    "\n",
    "print(\"=============== Code Parameters ================\")\n",
    "print(f\" [n,k,d] = {[C.length(), C.dimension(), C.minimum_distance()]}\")\n",
    "n = 2^m\n",
    "a = binomial_coefficients(m)\n",
    "k = sum([a[(i, m-i)] for i in range(r+1)])\n",
    "d = 2^(m-r)\n",
    "print(f\" [n,k,d] = {[n, k, d]}\")\n",
    "\n",
    "print(f\"Generator Matrix\\n{C.generator_matrix()}\")\n",
    "\n",
    "print(f\"Available Enoders: \\n{C.encoders_available()}\")\n",
    "print(f\"Available Deoders: \\n{C.decoders_available()}\")\n",
    "\n",
    "print(\"================= Encoding ====================\")\n",
    "msg = (Fq^k).random_element()\n",
    "cword = C.encode(msg)\n",
    "print(f\"  msg: {msg}\")\n",
    "print(f\"cword: {cword}\")\n",
    "\n",
    "print(\"=============== Transmission ==================\")\n",
    "cword = C.encode(msg)\n",
    "t = (d-1)//2\n",
    "chan  = channels.StaticErrorRateChannel(Fq^n, t)\n",
    "rword = chan.transmit(cword)\n",
    "print(f\"cword:  {cword}\")\n",
    "print(f\"rword:  {rword}\")\n",
    "error = vector(Fq, (cword[i]-rword[i] for i in range(n)))\n",
    "print(f\"errors: {error}\")\n",
    "\n",
    "import time\n",
    "print(\"================= Decoding ====================\")\n",
    "t0 = time.time()\n",
    "gword = C.decode_to_code(rword)\n",
    "t1 = time.time()\n",
    "print(f\"gword: {gword}\")\n",
    "print(f\"cword: {cword}\")\n",
    "print(f\" Time: {t1-t0}\")"
   ]
  }
 ],
 "metadata": {
  "kernelspec": {
   "display_name": "SageMath 9.8",
   "language": "sage",
   "name": "sagemath-9.8"
  },
  "language_info": {
   "codemirror_mode": {
    "name": "ipython",
    "version": 3
   },
   "file_extension": ".py",
   "mimetype": "text/x-python",
   "name": "python",
   "nbconvert_exporter": "python",
   "pygments_lexer": "ipython3",
   "version": "3.11.1"
  }
 },
 "nbformat": 4,
 "nbformat_minor": 5
}
