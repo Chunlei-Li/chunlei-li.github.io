{
 "cells": [
  {
   "cell_type": "code",
   "execution_count": 8,
   "metadata": {},
   "outputs": [
    {
     "data": {
      "text/plain": [
       "x^10 + x^8 + x^5 + x^4 + x^2 + x + 1"
      ]
     },
     "execution_count": 8,
     "metadata": {},
     "output_type": "execute_result"
    }
   ],
   "source": [
    "R.<x>  = PolynomialRing(GF(2))\n",
    "FF.<a> = FiniteField(2^4, modulus=x^4+x+1)\n",
    "RR.<y> = PolynomialRing(FF)\n",
    "\n",
    "# Defining set: 1, 2, 3, 4, 5\n",
    "g = a.minimal_polynomial()*(a^3).minimal_polynomial()*(a^5).minimal_polynomial()\n",
    "g"
   ]
  },
  {
   "cell_type": "code",
   "execution_count": 10,
   "metadata": {},
   "outputs": [
    {
     "data": {
      "text/plain": [
       "x^6 + (a^2 + a + 1)*x^5 + (a^3 + 1)*x^4 + (a + 1)*x^3 + (a^3 + a^2)*x^2 + (a^3 + a)*x + a^3 + a^2"
      ]
     },
     "execution_count": 10,
     "metadata": {},
     "output_type": "execute_result"
    }
   ],
   "source": [
    "g1 = (x-a)*(x-a^2)*(x-a^3)*(x-a^4)*(x-a^5)*(x-a^6)\n",
    "g1"
   ]
  },
  {
   "cell_type": "code",
   "execution_count": null,
   "metadata": {},
   "outputs": [],
   "source": []
  }
 ],
 "metadata": {
  "kernelspec": {
   "display_name": "SageMath 9.1",
   "language": "sage",
   "name": "sagemath"
  },
  "language_info": {
   "codemirror_mode": {
    "name": "ipython",
    "version": 3
   },
   "file_extension": ".py",
   "mimetype": "text/x-python",
   "name": "python",
   "nbconvert_exporter": "python",
   "pygments_lexer": "ipython3",
   "version": "3.7.3"
  }
 },
 "nbformat": 4,
 "nbformat_minor": 2
}
