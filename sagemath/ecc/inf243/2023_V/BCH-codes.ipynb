{
 "cells": [
  {
   "cell_type": "code",
   "execution_count": 139,
   "metadata": {},
   "outputs": [
    {
     "name": "stdout",
     "output_type": "stream",
     "text": [
      "x^15 + x^11 + x^10 + x^9 + x^8 + x^7 + x^5 + x^3 + x^2 + x + 1\n",
      "[31,16,7]\n"
     ]
    }
   ],
   "source": [
    "# Generator of a BCH code over GF(q) with length n and designed min. distance d\n",
    "n = 31\n",
    "q = 2\n",
    "d = 7\n",
    "\n",
    "m = multiplicative_order(mod(q,n))\n",
    "Fq = GF(q)\n",
    "R.<x> = PolynomialRing(Fq)\n",
    "\n",
    "F.<a> = Fq.extension(m)\n",
    "b = a^((q^m-1)//n)\n",
    "\n",
    "offset = 1\n",
    "g = 1\n",
    "for i in range(offset, offset+d-1):\n",
    "    u = b^i\n",
    "    min_poly = u.minimal_polynomial()\n",
    "#     print(\"i={}, u={}, {}\".format(i,u,min_poly))\n",
    "    g = lcm(g, min_poly)\n",
    "\n",
    "C = codes.CyclicCode(generator_pol = g, length=n)\n",
    "print(C.generator_polynomial())\n",
    "print(\"[{},{},{}]\".format(C.length(), C.dimension(), C.minimum_distance()))"
   ]
  },
  {
   "cell_type": "code",
   "execution_count": 141,
   "metadata": {},
   "outputs": [
    {
     "name": "stdout",
     "output_type": "stream",
     "text": [
      "error: (0, 0, 0, 0, 0, 1, 0, 0, 0, 0, 0, 0, 0, 0, 0, 0, 0, 0, 0, 1, 0, 0, 0, 0, 1, 0, 0, 0, 0, 0, 0)\n",
      "rword: (1, 0, 0, 1, 0, 1, 0, 0, 1, 1, 1, 0, 0, 1, 0, 0, 1, 1, 1, 0, 1, 0, 1, 1, 1, 1, 1, 1, 1, 1, 1)\n"
     ]
    }
   ],
   "source": [
    "# set_random_seed(2)\n",
    "def err_gen(n,t):\n",
    "    e = zero_vector(Fq, n)\n",
    "    for i in range(t):\n",
    "        pos = randint(0, n-1)\n",
    "        e[pos] = 1\n",
    "    return e\n",
    "\n",
    "t = (d-1) // 2\n",
    "\n",
    "cword = C.random_element()\n",
    "err = err_gen(n,t)\n",
    "rword = cword + err\n",
    "\n",
    "# print(\"cword:\", cword)\n",
    "print(\"error:\", err)\n",
    "print(\"rword:\", rword)"
   ]
  },
  {
   "cell_type": "code",
   "execution_count": 142,
   "metadata": {},
   "outputs": [
    {
     "name": "stdout",
     "output_type": "stream",
     "text": [
      "syndrome: [a^4 + a^3 + a^2 + 1, a^4 + a^2 + a, a^4 + a^3 + 1, a^4 + a^3 + 1, a^4 + a^2 + a, a^2 + a]\n",
      "determinant: a^3\n"
     ]
    },
    {
     "data": {
      "text/plain": [
       "(a^4 + a + 1, a^4 + a^3 + 1, a^4 + a^3 + a^2 + 1)"
      ]
     },
     "execution_count": 142,
     "metadata": {},
     "output_type": "execute_result"
    }
   ],
   "source": [
    "# rword = (1, 0, 0, 1, 0, 1, 0, 0, 0, 1, 1, 0, 0, 1, 1)\n",
    "def evaluate(vec, ele):\n",
    "    n = len(vec)\n",
    "    return sum([vec[i]*ele^i for i in range(n)])\n",
    "\n",
    "t = (d-1) // 2\n",
    "s = [evaluate(rword, b^i) for i in range(1, 2*t+1)]\n",
    "print(\"syndrome:\", s)\n",
    "\n",
    "smat = Matrix([s[j:j+t] for j in range(t)])\n",
    "\n",
    "print(\"determinant:\", smat.determinant())\n",
    "vec = vector([-s[j] for j in range(t, 2*t)])\n",
    "coeff_sigma = smat.solve_right(vec)\n",
    "\n",
    "coeff_sigma\n"
   ]
  },
  {
   "cell_type": "code",
   "execution_count": 143,
   "metadata": {},
   "outputs": [
    {
     "name": "stdout",
     "output_type": "stream",
     "text": [
      "error location: 24\n",
      "error location: 19\n",
      "error location: 5\n"
     ]
    }
   ],
   "source": [
    "for j in range(n):\n",
    "    ele = b^j\n",
    "    res = sum([coeff_sigma[t-i]*ele^i for i in range(1,t+1)]) + 1\n",
    "    if res == 0:\n",
    "        print(\"error location:\", n-j)"
   ]
  },
  {
   "cell_type": "code",
   "execution_count": null,
   "metadata": {},
   "outputs": [],
   "source": []
  }
 ],
 "metadata": {
  "kernelspec": {
   "display_name": "SageMath 9.1",
   "language": "sage",
   "name": "sagemath"
  },
  "language_info": {
   "codemirror_mode": {
    "name": "ipython",
    "version": 3
   },
   "file_extension": ".py",
   "mimetype": "text/x-python",
   "name": "python",
   "nbconvert_exporter": "python",
   "pygments_lexer": "ipython3",
   "version": "3.7.3"
  }
 },
 "nbformat": 4,
 "nbformat_minor": 2
}
