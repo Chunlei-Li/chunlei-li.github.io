{
 "cells": [
  {
   "cell_type": "code",
   "execution_count": 5,
   "id": "7d5f7344",
   "metadata": {},
   "outputs": [
    {
     "name": "stdout",
     "output_type": "stream",
     "text": [
      "010001010111001001110010011011110111001000101101011000110110111101110010011100100110010101100011011101000110100101101110011001110010000001100011011011110110010001100101011100110010000001100001011100100110010100100000011000110111001001110101011000110110100101100001011011000010000001100110011011110111001000100000011101110110100101110010011001010110110001100101011100110111001100100000011000110110111101101101011011010111010101101110011010010110001101100001011101000110100101101111011011100111001100100001\n",
      "Error-correcting codes are crucial for wireless communications!\n"
     ]
    }
   ],
   "source": [
    "def text2bin(txt_str):\n",
    "    return \"\".join(f\"{ord(i):08b}\" for i in txt_str)\n",
    "\n",
    "def bin2text(bin_str):\n",
    "    return \"\".join([chr(int(bin_str[i:i+8],2)) for i in range(0,len(bin_str),8)])\n",
    "\n",
    "msg = \"Error-correcting codes are crucial for wireless communications!\"\n",
    "\n",
    "# Example\n",
    "\n",
    "data = text2bin(msg)\n",
    "print(data)\n",
    "\n",
    "msg1 = bin2text(data)\n",
    "print(msg1)"
   ]
  }
 ],
 "metadata": {
  "kernelspec": {
   "display_name": "Python 3 (ipykernel)",
   "language": "python",
   "name": "python3"
  },
  "language_info": {
   "codemirror_mode": {
    "name": "ipython",
    "version": 3
   },
   "file_extension": ".py",
   "mimetype": "text/x-python",
   "name": "python",
   "nbconvert_exporter": "python",
   "pygments_lexer": "ipython3",
   "version": "3.11.1"
  }
 },
 "nbformat": 4,
 "nbformat_minor": 5
}
